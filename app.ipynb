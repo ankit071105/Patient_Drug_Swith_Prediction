{
 "cells": [
  {
   "cell_type": "code",
   "execution_count": 1,
   "metadata": {
    "collapsed": true
   },
   "outputs": [],
   "source": [
    "def reduce_mem_usage_colwise(col):\n",
    "    numerics = ['int16', 'int32', 'int64', 'float16', 'float32', 'float64']\n",
    "    col_type = col.dtypes\n",
    "    if col_type in numerics:\n",
    "        c_min = col.min()\n",
    "        c_max = col.max()\n",
    "        if str(col_type)[:3] == 'int':\n",
    "            if c_min > np.iinfo(np.int8).min and c_max < np.iinfo(np.int8).max:\n",
    "                col = col.astype(np.int8)\n",
    "            elif c_min > np.iinfo(np.int16).min and c_max < np.iinfo(np.int16).max:\n",
    "                col = col.astype(np.int16)\n",
    "            elif c_min > np.iinfo(np.int32).min and c_max < np.iinfo(np.int32).max:\n",
    "                col = col.astype(np.int32)\n",
    "            elif c_min > np.iinfo(np.int64).min and c_max < np.iinfo(np.int64).max:\n",
    "                col = col.astype(np.int64)  \n",
    "        else:\n",
    "            if c_min > np.finfo(np.float16).min and c_max < np.finfo(np.float16).max:\n",
    "                col = col.astype(np.float16)\n",
    "            elif c_min > np.finfo(np.float32).min and c_max < np.finfo(np.float32).max:\n",
    "                col = col.astype(np.float32)\n",
    "            else:\n",
    "                col = col.astype(np.float64)    \n",
    "#     gc.collect()\n",
    "    return col"
   ]
  },
  {
   "cell_type": "code",
   "execution_count": 2,
   "metadata": {
    "collapsed": true
   },
   "outputs": [],
   "source": [
    "import pandas as pd\n",
    "import matplotlib.pyplot as plt\n",
    "import numpy as np\n",
    "\n",
    "from sklearn.model_selection import KFold, StratifiedKFold, GroupKFold, train_test_split\n",
    "from sklearn.metrics import roc_auc_score\n",
    "\n",
    "import lightgbm as lgb\n",
    "\n",
    "from multiprocessing import Pool\n",
    "from functools import partial\n",
    "import gc\n",
    "from tqdm import tqdm\n",
    "import warnings\n",
    "warnings.simplefilter(action='ignore', category=FutureWarning)"
   ]
  },
  {
   "cell_type": "code",
   "execution_count": 3,
   "metadata": {},
   "outputs": [
    {
     "name": "stdout",
     "output_type": "stream",
     "text": [
      "Wall time: 34.1 s\n"
     ]
    }
   ],
   "source": [
    "%%time\n",
    "DATA_PATH = 'Data/'\n",
    "OUTPUT_PATH = 'Output/'\n",
    "\n",
    "train = pd.read_csv(DATA_PATH + 'train_data.csv')\n",
    "train_labels = pd.read_csv(DATA_PATH + 'train_labels.csv')\n",
    "test = pd.read_csv(DATA_PATH + 'test_data.csv')\n",
    "sample_sub = pd.read_csv(DATA_PATH + 'Sample Submission.csv')"
   ]
  },
  {
   "cell_type": "code",
   "execution_count": 6,
   "metadata": {
    "collapsed": true
   },
   "outputs": [],
   "source": [
    "train = pd.merge(train, train_labels, on = 'patient_id', how='left')"
   ]
  },
  {
   "cell_type": "code",
   "execution_count": 7,
   "metadata": {
    "collapsed": true
   },
   "outputs": [],
   "source": [
    "cat_cols = ['event_name',  'plan_type', 'specialty']\n",
    "num_cols = ['event_time', 'patient_payment']\n",
    "\n",
    "train[cat_cols] = train[cat_cols].apply(lambda x: x.astype('category'))\n",
    "test[cat_cols] = test[cat_cols].apply(lambda x: x.astype('category'))\n",
    "\n",
    "ID_COL = 'patient_id'"
   ]
  },
  {
   "cell_type": "code",
   "execution_count": 8,
   "metadata": {
    "collapsed": true
   },
   "outputs": [],
   "source": [
    "train = train.drop_duplicates()\n",
    "test = test.drop_duplicates()"
   ]
  },
  {
   "cell_type": "code",
   "execution_count": 9,
   "metadata": {},
   "outputs": [
    {
     "name": "stdout",
     "output_type": "stream",
     "text": [
      "Wall time: 9.48 s\n"
     ]
    }
   ],
   "source": [
    "%%time\n",
    "df = pd.concat([train, test])\n",
    "df[cat_cols] = df[cat_cols].apply(lambda x: pd.factorize(x)[0])\n",
    "df = df.sort_values(by=['patient_id', 'event_time'])\n",
    "df = df.reset_index(drop=True)"
   ]
  },
  {
   "cell_type": "code",
   "execution_count": 10,
   "metadata": {
    "collapsed": true
   },
   "outputs": [],
   "source": [
    "cat_cols = ['event_name',  'plan_type', 'specialty']\n",
    "num_cols = ['event_time', 'patient_payment']"
   ]
  },
  {
   "cell_type": "code",
   "execution_count": 11,
   "metadata": {},
   "outputs": [
    {
     "data": {
      "text/plain": [
       "0"
      ]
     },
     "execution_count": 11,
     "metadata": {},
     "output_type": "execute_result"
    }
   ],
   "source": [
    "del train, test\n",
    "gc.collect()"
   ]
  },
  {
   "cell_type": "code",
   "execution_count": 12,
   "metadata": {
    "collapsed": true
   },
   "outputs": [],
   "source": [
    "event_name_patient_id_grpd = df.groupby(['event_name', 'patient_id']).agg({'event_time': ['min'], 'patient_payment': ['sum', 'max'], 'plan_type': ['nunique'], 'specialty': ['nunique']})\n",
    "event_name_patient_id_grpd.columns = ['grpd_by_event_name_patient_id_' + '_'.join(c).strip('_') for c in event_name_patient_id_grpd.columns]\n",
    "df = pd.merge(df, event_name_patient_id_grpd, on = ['event_name', 'patient_id'], how='left')"
   ]
  },
  {
   "cell_type": "code",
   "execution_count": 13,
   "metadata": {},
   "outputs": [
    {
     "data": {
      "text/plain": [
       "0"
      ]
     },
     "execution_count": 13,
     "metadata": {},
     "output_type": "execute_result"
    }
   ],
   "source": [
    "num_cols = num_cols + event_name_patient_id_grpd.columns.tolist()\n",
    "del event_name_patient_id_grpd\n",
    "gc.collect()"
   ]
  },
  {
   "cell_type": "code",
   "execution_count": 14,
   "metadata": {
    "collapsed": true
   },
   "outputs": [],
   "source": [
    "specialty_patient_id_grpd = df.groupby(['specialty', 'patient_id']).agg({'event_time': ['min','max'], 'patient_payment': ['sum', 'max'], 'plan_type': ['nunique'], 'event_name': ['nunique']})\n",
    "specialty_patient_id_grpd.columns = ['grpd_by_specialty_patient_id_' + '_'.join(c).strip('_') for c in specialty_patient_id_grpd.columns]\n",
    "df = pd.merge(df, specialty_patient_id_grpd, on = ['specialty', 'patient_id'], how='left')"
   ]
  },
  {
   "cell_type": "code",
   "execution_count": 15,
   "metadata": {},
   "outputs": [
    {
     "data": {
      "text/plain": [
       "0"
      ]
     },
     "execution_count": 15,
     "metadata": {},
     "output_type": "execute_result"
    }
   ],
   "source": [
    "num_cols = num_cols + specialty_patient_id_grpd.columns.tolist()\n",
    "del specialty_patient_id_grpd\n",
    "gc.collect()"
   ]
  },
  {
   "cell_type": "code",
   "execution_count": 16,
   "metadata": {
    "collapsed": true
   },
   "outputs": [],
   "source": [
    "plan_type_patient_id_grpd = df.groupby(['plan_type', 'patient_id']).agg({'event_time': ['min','max'], 'patient_payment': ['sum', 'max'], 'specialty': ['nunique'], 'event_name': ['nunique']})\n",
    "plan_type_patient_id_grpd.columns = ['grpd_by_plan_type_patient_id_' + '_'.join(c).strip('_') for c in plan_type_patient_id_grpd.columns]\n",
    "df = pd.merge(df, plan_type_patient_id_grpd, on = ['plan_type', 'patient_id'], how='left')"
   ]
  },
  {
   "cell_type": "code",
   "execution_count": 17,
   "metadata": {},
   "outputs": [
    {
     "data": {
      "text/plain": [
       "0"
      ]
     },
     "execution_count": 17,
     "metadata": {},
     "output_type": "execute_result"
    }
   ],
   "source": [
    "num_cols = num_cols + plan_type_patient_id_grpd.columns.tolist()\n",
    "del plan_type_patient_id_grpd\n",
    "gc.collect()"
   ]
  },
  {
   "cell_type": "code",
   "execution_count": 18,
   "metadata": {
    "collapsed": true
   },
   "outputs": [],
   "source": [
    "event_time_patient_id_grpd = df.groupby(['event_time', 'patient_id']).agg({'plan_type': ['nunique'], 'patient_payment': ['sum', 'max'], 'specialty': ['nunique'], 'event_name': ['nunique']})\n",
    "event_time_patient_id_grpd.columns = ['grpd_by_event_time_patient_id_' + '_'.join(c).strip('_') for c in event_time_patient_id_grpd.columns]\n",
    "df = pd.merge(df, event_time_patient_id_grpd, on = ['event_time', 'patient_id'], how='left')"
   ]
  },
  {
   "cell_type": "code",
   "execution_count": 19,
   "metadata": {},
   "outputs": [
    {
     "data": {
      "text/plain": [
       "0"
      ]
     },
     "execution_count": 19,
     "metadata": {},
     "output_type": "execute_result"
    }
   ],
   "source": [
    "num_cols = num_cols + event_time_patient_id_grpd.columns.tolist()\n",
    "del event_time_patient_id_grpd\n",
    "gc.collect()"
   ]
  },
  {
   "cell_type": "code",
   "execution_count": 20,
   "metadata": {
    "collapsed": true
   },
   "outputs": [],
   "source": [
    "features = [c for c in df.columns if c not in ['patient_id', 'plan_type']]"
   ]
  },
  {
   "cell_type": "code",
   "execution_count": 21,
   "metadata": {},
   "outputs": [
    {
     "data": {
      "text/plain": [
       "0"
      ]
     },
     "execution_count": 21,
     "metadata": {},
     "output_type": "execute_result"
    }
   ],
   "source": [
    "event_name_grpd = df.groupby('event_name').agg({'event_time': ['min'], 'patient_id': ['nunique'], 'patient_payment': ['sum', 'max'], 'plan_type': ['nunique'], 'specialty': ['nunique']})\n",
    "event_name_grpd.columns = ['grpd_by_event_name_' + '_'.join(c).strip('_') for c in event_name_grpd.columns]\n",
    "df = pd.merge(df, event_name_grpd, on = 'event_name', how='left')\n",
    "\n",
    "num_cols = num_cols + event_name_grpd.columns.tolist()\n",
    "del event_name_grpd\n",
    "features = [c for c in df.columns if c not in ['patient_id']]\n",
    "df[features] = df[features].apply(lambda x: reduce_mem_usage_colwise(x))\n",
    "gc.collect()"
   ]
  },
  {
   "cell_type": "code",
   "execution_count": 22,
   "metadata": {},
   "outputs": [
    {
     "data": {
      "text/plain": [
       "0"
      ]
     },
     "execution_count": 22,
     "metadata": {},
     "output_type": "execute_result"
    }
   ],
   "source": [
    "specialty_grpd = df.groupby('specialty').agg({'event_time': ['min'], 'patient_id': ['nunique'], 'patient_payment': ['sum', 'max'], 'plan_type': ['nunique'], 'event_name': ['nunique', 'size']})\n",
    "specialty_grpd.columns = ['grpd_by_specialty_' + '_'.join(c).strip('_') for c in specialty_grpd.columns]\n",
    "df = pd.merge(df, specialty_grpd, on = 'specialty', how='left')\n",
    "\n",
    "num_cols = num_cols + specialty_grpd.columns.tolist()\n",
    "features = [c for c in df.columns if c not in ['patient_id']]\n",
    "df[features] = df[features].apply(lambda x: reduce_mem_usage_colwise(x))\n",
    "del specialty_grpd\n",
    "gc.collect()"
   ]
  },
  {
   "cell_type": "code",
   "execution_count": 23,
   "metadata": {},
   "outputs": [
    {
     "data": {
      "text/plain": [
       "0"
      ]
     },
     "execution_count": 23,
     "metadata": {},
     "output_type": "execute_result"
    }
   ],
   "source": [
    "plan_type_grpd = df.groupby('plan_type').agg({'event_time': ['min'], 'patient_id': ['nunique'], 'patient_payment': ['sum', 'max'], 'specialty': ['nunique'],\n",
    "                                              'event_name': ['nunique']})\n",
    "plan_type_grpd.columns = ['grpd_by_plan_type_' + '_'.join(c).strip('_') for c in plan_type_grpd.columns]\n",
    "df = pd.merge(df, plan_type_grpd, on = 'plan_type', how='left')\n",
    "\n",
    "num_cols = num_cols + plan_type_grpd.columns.tolist()\n",
    "features = [c for c in df.columns if c not in ['patient_id']]\n",
    "df[features] = df[features].apply(lambda x: reduce_mem_usage_colwise(x))\n",
    "del plan_type_grpd\n",
    "gc.collect()"
   ]
  },
  {
   "cell_type": "code",
   "execution_count": 24,
   "metadata": {},
   "outputs": [
    {
     "data": {
      "text/plain": [
       "0"
      ]
     },
     "execution_count": 24,
     "metadata": {},
     "output_type": "execute_result"
    }
   ],
   "source": [
    "event_time_grpd = df.groupby('event_time').agg({'plan_type': ['nunique'], 'patient_id': ['nunique'], 'patient_payment': ['sum', 'max'], 'specialty': ['nunique'], 'event_time': ['min'],\n",
    "                                               'event_name': ['nunique']})\n",
    "event_time_grpd.columns = ['grpd_by_event_time_' + '_'.join(c).strip('_') for c in event_time_grpd.columns]\n",
    "df = pd.merge(df, event_time_grpd, on = 'event_time', how='left')\n",
    "\n",
    "num_cols = num_cols + event_time_grpd.columns.tolist()\n",
    "features = [c for c in df.columns if c not in ['patient_id']]\n",
    "df[features] = df[features].apply(lambda x: reduce_mem_usage_colwise(x))\n",
    "del event_time_grpd\n",
    "gc.collect()"
   ]
  },
  {
   "cell_type": "code",
   "execution_count": 25,
   "metadata": {},
   "outputs": [
    {
     "data": {
      "text/plain": [
       "0"
      ]
     },
     "execution_count": 25,
     "metadata": {},
     "output_type": "execute_result"
    }
   ],
   "source": [
    "df.shape\n",
    "gc.collect()"
   ]
  },
  {
   "cell_type": "code",
   "execution_count": 26,
   "metadata": {
    "collapsed": true
   },
   "outputs": [],
   "source": [
    "features = [c for c in df.columns if c not in ['patient_id']]\n",
    "df[features] = df[features].apply(lambda x: reduce_mem_usage_colwise(x))"
   ]
  },
  {
   "cell_type": "code",
   "execution_count": 27,
   "metadata": {},
   "outputs": [
    {
     "name": "stdout",
     "output_type": "stream",
     "text": [
      "DONE\n",
      "DONE\n"
     ]
    }
   ],
   "source": [
    "add_num_cols = []\n",
    "grp_name = 'patient_id'\n",
    "grp = df.groupby('patient_id')\n",
    "\n",
    "num_cumsum_cols = [c + grp_name + '_cumsum' for c in num_cols]\n",
    "add_num_cols = add_num_cols + num_cumsum_cols\n",
    "total_num_cols = len(num_cumsum_cols)\n",
    "\n",
    "#Broken into two parts to keep RAM USAGE low\n",
    "df[num_cumsum_cols[0:len(num_cumsum_cols)//2]] = df[num_cols[0:len(num_cols)//2]].apply(lambda x: reduce_mem_usage_colwise(grp[x.name].cumsum()))\n",
    "print(\"DONE\")\n",
    "gc.collect()\n",
    "df[num_cumsum_cols[len(num_cumsum_cols)//2:]] = df[num_cols[len(num_cols)//2:]].apply(lambda x: reduce_mem_usage_colwise(grp[x.name].cumsum()))\n",
    "print(\"DONE\")\n",
    "gc.collect()\n",
    "\n",
    "num_cols = list(set(num_cols + add_num_cols))"
   ]
  },
  {
   "cell_type": "code",
   "execution_count": 28,
   "metadata": {
    "collapsed": true
   },
   "outputs": [],
   "source": [
    "add_freq_cols = cat_cols\n",
    "freq_cols = [c + '_freq' for c in add_freq_cols]\n",
    "df[freq_cols] = df[add_freq_cols].apply(lambda x: reduce_mem_usage_colwise(x.map(x.value_counts())))\n",
    "\n",
    "add_freq_cumsum = [c + grp_name + '_cumsum' for c in freq_cols]\n",
    "df[add_freq_cumsum] = df[freq_cols].apply(lambda x: reduce_mem_usage_colwise(grp[x.name].cumsum()))\n",
    "num_cols = num_cols + freq_cols + add_freq_cumsum\n",
    "\n",
    "df['patient_id_freq'] = df['patient_id'].map(df['patient_id'].value_counts())\n",
    "num_cols = num_cols + ['patient_id_freq']"
   ]
  },
  {
   "cell_type": "code",
   "execution_count": null,
   "metadata": {
    "collapsed": true
   },
   "outputs": [],
   "source": [
    "%%time\n",
    "aggs = {}\n",
    "for c in cat_cols:\n",
    "    aggs[c] = ['nunique']\n",
    "for c in num_cols:\n",
    "    aggs[c] = ['sum', 'min', 'max', 'std']\n",
    "    \n",
    "def apply_aggs(col):\n",
    "    res_lists = []\n",
    "    all_aggs = aggs[col]\n",
    "    for agg_func in all_aggs:\n",
    "        ser = pd.Series(grp[col].agg(agg_func), name = col + '_' + agg_func)\n",
    "        res_lists.append(ser)\n",
    "    return res_lists\n",
    "\n",
    "grp = df.groupby('patient_id')\n",
    "try:\n",
    "    pool = Pool(4) \n",
    "    all_aggs = pool.map(apply_aggs, (col for col in aggs.keys()))\n",
    "finally: \n",
    "    pool.close()\n",
    "    pool.join()"
   ]
  },
  {
   "cell_type": "code",
   "execution_count": null,
   "metadata": {
    "collapsed": true
   },
   "outputs": [],
   "source": [
    "all_aggs_flattened = [x for nested_list in all_aggs for x in nested_list]\n",
    "print(len(all_aggs_flattened))\n",
    "comp_df = pd.DataFrame(all_aggs_flattened).T\n",
    "comp_df = comp_df.reset_index()"
   ]
  },
  {
   "cell_type": "code",
   "execution_count": null,
   "metadata": {
    "collapsed": true
   },
   "outputs": [],
   "source": [
    "del all_aggs, all_aggs_flattened\n",
    "gc.collect()"
   ]
  },
  {
   "cell_type": "code",
   "execution_count": null,
   "metadata": {
    "collapsed": true
   },
   "outputs": [],
   "source": [
    "comp_df.shape"
   ]
  },
  {
   "cell_type": "code",
   "execution_count": null,
   "metadata": {
    "collapsed": true
   },
   "outputs": [],
   "source": [
    "ID_COL, TARGET_COL = 'patient_id', 'outcome_flag'"
   ]
  },
  {
   "cell_type": "code",
   "execution_count": null,
   "metadata": {
    "collapsed": true
   },
   "outputs": [],
   "source": [
    "grp = df.groupby('patient_id')\n",
    "comp_df = pd.merge(comp_df, grp['patient_payment'].agg(lambda x: x.values[-1]).rename('patient_payment_last_value').reset_index(), on = 'patient_id', how ='left')\n",
    "comp_df = pd.merge(comp_df, grp['event_time'].agg(lambda x: x.values[-1]).rename('event_time_last_value').reset_index(), on = 'patient_id', how ='left')"
   ]
  },
  {
   "cell_type": "code",
   "execution_count": null,
   "metadata": {
    "collapsed": true
   },
   "outputs": [],
   "source": [
    "features = [c for c in comp_df if c not in [ID_COL, TARGET_COL]]"
   ]
  },
  {
   "cell_type": "code",
   "execution_count": null,
   "metadata": {
    "collapsed": true
   },
   "outputs": [],
   "source": [
    "comp_df[features] = comp_df[features].apply(lambda x: reduce_mem_usage_colwise(x))"
   ]
  },
  {
   "cell_type": "code",
   "execution_count": null,
   "metadata": {
    "collapsed": true
   },
   "outputs": [],
   "source": [
    "comp_train = pd.merge(train_labels, comp_df, how = 'inner', on = 'patient_id')\n",
    "comp_test = pd.merge(sample_sub, comp_df, how = 'inner', on = 'patient_id')\n",
    "target = comp_train[TARGET_COL]\n",
    "comp_train.shape, train_labels.shape, comp_test.shape, sample_sub.shape"
   ]
  },
  {
   "cell_type": "code",
   "execution_count": null,
   "metadata": {
    "collapsed": true
   },
   "outputs": [],
   "source": [
    "del comp_df\n",
    "gc.collect()"
   ]
  },
  {
   "cell_type": "code",
   "execution_count": 37,
   "metadata": {},
   "outputs": [
    {
     "data": {
      "text/plain": [
       "0"
      ]
     },
     "execution_count": 37,
     "metadata": {},
     "output_type": "execute_result"
    }
   ],
   "source": [
    "param = {'num_leaves': 5000,\n",
    "         'min_data_in_leaf': 400, \n",
    "         'objective':'binary',\n",
    "         'max_depth': -1,\n",
    "         'learning_rate': 0.01,\n",
    "         \"boosting\": \"gbdt\",\n",
    "         \"feature_fraction\": 0.55,\n",
    "         \"metric\": 'auc',\n",
    "         \"lambda_l1\": 6,\n",
    "         \"lambda_l2\": 2,\n",
    "         \"random_state\": 6,\n",
    "         \"verbosity\": -1,\n",
    "         'two_round': True,\n",
    "         'cat_smooth': 1,\n",
    "          'cat_l2':1,\n",
    "         'two_round': True}\n",
    "gc.collect()"
   ]
  },
  {
   "cell_type": "code",
   "execution_count": 38,
   "metadata": {},
   "outputs": [
    {
     "name": "stdout",
     "output_type": "stream",
     "text": [
      "fold n°0\n",
      "Training until validation scores don't improve for 400 rounds\n",
      "[200]\ttraining's auc: 0.80984\tvalid_1's auc: 0.731885\n",
      "[400]\ttraining's auc: 0.848279\tvalid_1's auc: 0.744236\n",
      "[600]\ttraining's auc: 0.879354\tvalid_1's auc: 0.749324\n",
      "[800]\ttraining's auc: 0.904028\tvalid_1's auc: 0.752293\n",
      "[1000]\ttraining's auc: 0.924389\tvalid_1's auc: 0.752224\n",
      "[1200]\ttraining's auc: 0.940718\tvalid_1's auc: 0.752241\n",
      "Early stopping, best iteration is:\n",
      "[851]\ttraining's auc: 0.909565\tvalid_1's auc: 0.753483\n",
      "fold n°1\n",
      "Training until validation scores don't improve for 400 rounds\n",
      "[200]\ttraining's auc: 0.808651\tvalid_1's auc: 0.748934\n",
      "[400]\ttraining's auc: 0.847154\tvalid_1's auc: 0.756088\n",
      "[600]\ttraining's auc: 0.8784\tvalid_1's auc: 0.757948\n",
      "[800]\ttraining's auc: 0.903163\tvalid_1's auc: 0.758198\n",
      "[1000]\ttraining's auc: 0.923383\tvalid_1's auc: 0.757573\n",
      "Early stopping, best iteration is:\n",
      "[669]\ttraining's auc: 0.887528\tvalid_1's auc: 0.758926\n",
      "fold n°2\n",
      "Training until validation scores don't improve for 400 rounds\n",
      "[200]\ttraining's auc: 0.80733\tvalid_1's auc: 0.744694\n",
      "[400]\ttraining's auc: 0.846629\tvalid_1's auc: 0.75751\n",
      "[600]\ttraining's auc: 0.877893\tvalid_1's auc: 0.760832\n",
      "[800]\ttraining's auc: 0.902928\tvalid_1's auc: 0.761477\n",
      "[1000]\ttraining's auc: 0.923342\tvalid_1's auc: 0.762864\n",
      "[1200]\ttraining's auc: 0.939719\tvalid_1's auc: 0.762704\n",
      "[1400]\ttraining's auc: 0.953086\tvalid_1's auc: 0.762936\n",
      "Early stopping, best iteration is:\n",
      "[1070]\ttraining's auc: 0.929515\tvalid_1's auc: 0.76328\n",
      "fold n°3\n",
      "Training until validation scores don't improve for 400 rounds\n",
      "[200]\ttraining's auc: 0.806716\tvalid_1's auc: 0.761517\n",
      "[400]\ttraining's auc: 0.846102\tvalid_1's auc: 0.773902\n",
      "[600]\ttraining's auc: 0.876999\tvalid_1's auc: 0.779904\n",
      "[800]\ttraining's auc: 0.901942\tvalid_1's auc: 0.782665\n",
      "[1000]\ttraining's auc: 0.922749\tvalid_1's auc: 0.784596\n",
      "[1200]\ttraining's auc: 0.939581\tvalid_1's auc: 0.785574\n",
      "[1400]\ttraining's auc: 0.952807\tvalid_1's auc: 0.784301\n",
      "Early stopping, best iteration is:\n",
      "[1166]\ttraining's auc: 0.937124\tvalid_1's auc: 0.785666\n",
      "fold n°4\n",
      "Training until validation scores don't improve for 400 rounds\n",
      "[200]\ttraining's auc: 0.807611\tvalid_1's auc: 0.734187\n",
      "[400]\ttraining's auc: 0.846902\tvalid_1's auc: 0.744127\n",
      "[600]\ttraining's auc: 0.877899\tvalid_1's auc: 0.745569\n",
      "[800]\ttraining's auc: 0.902683\tvalid_1's auc: 0.745987\n",
      "[1000]\ttraining's auc: 0.922855\tvalid_1's auc: 0.746274\n",
      "[1200]\ttraining's auc: 0.938977\tvalid_1's auc: 0.745901\n",
      "[1400]\ttraining's auc: 0.952058\tvalid_1's auc: 0.744179\n",
      "Early stopping, best iteration is:\n",
      "[1079]\ttraining's auc: 0.929611\tvalid_1's auc: 0.746761\n",
      "fold n°5\n",
      "Training until validation scores don't improve for 400 rounds\n",
      "[200]\ttraining's auc: 0.808571\tvalid_1's auc: 0.734135\n",
      "[400]\ttraining's auc: 0.848042\tvalid_1's auc: 0.738569\n",
      "[600]\ttraining's auc: 0.878719\tvalid_1's auc: 0.739827\n",
      "[800]\ttraining's auc: 0.90329\tvalid_1's auc: 0.740854\n",
      "[1000]\ttraining's auc: 0.922998\tvalid_1's auc: 0.742184\n",
      "[1200]\ttraining's auc: 0.939091\tvalid_1's auc: 0.742808\n",
      "[1400]\ttraining's auc: 0.952145\tvalid_1's auc: 0.74202\n",
      "[1600]\ttraining's auc: 0.962569\tvalid_1's auc: 0.741616\n",
      "Early stopping, best iteration is:\n",
      "[1256]\ttraining's auc: 0.942952\tvalid_1's auc: 0.743227\n",
      "fold n°6\n",
      "Training until validation scores don't improve for 400 rounds\n",
      "[200]\ttraining's auc: 0.807511\tvalid_1's auc: 0.765933\n",
      "[400]\ttraining's auc: 0.84756\tvalid_1's auc: 0.770462\n",
      "[600]\ttraining's auc: 0.878661\tvalid_1's auc: 0.77144\n",
      "[800]\ttraining's auc: 0.903708\tvalid_1's auc: 0.771555\n",
      "[1000]\ttraining's auc: 0.923989\tvalid_1's auc: 0.770772\n",
      "Early stopping, best iteration is:\n",
      "[736]\ttraining's auc: 0.896035\tvalid_1's auc: 0.772034\n",
      "fold n°7\n",
      "Training until validation scores don't improve for 400 rounds\n",
      "[200]\ttraining's auc: 0.806704\tvalid_1's auc: 0.73488\n",
      "[400]\ttraining's auc: 0.847109\tvalid_1's auc: 0.746564\n",
      "[600]\ttraining's auc: 0.877639\tvalid_1's auc: 0.752984\n",
      "[800]\ttraining's auc: 0.903027\tvalid_1's auc: 0.754666\n",
      "[1000]\ttraining's auc: 0.923515\tvalid_1's auc: 0.756388\n",
      "[1200]\ttraining's auc: 0.939912\tvalid_1's auc: 0.757681\n",
      "[1400]\ttraining's auc: 0.953336\tvalid_1's auc: 0.759674\n",
      "[1600]\ttraining's auc: 0.963702\tvalid_1's auc: 0.760544\n",
      "[1800]\ttraining's auc: 0.972132\tvalid_1's auc: 0.761486\n",
      "[2000]\ttraining's auc: 0.978546\tvalid_1's auc: 0.761224\n",
      "[2200]\ttraining's auc: 0.9836\tvalid_1's auc: 0.761163\n",
      "[2400]\ttraining's auc: 0.987619\tvalid_1's auc: 0.761644\n",
      "[2600]\ttraining's auc: 0.99079\tvalid_1's auc: 0.761725\n",
      "Early stopping, best iteration is:\n",
      "[2332]\ttraining's auc: 0.986338\tvalid_1's auc: 0.761849\n",
      "fold n°8\n",
      "Training until validation scores don't improve for 400 rounds\n",
      "[200]\ttraining's auc: 0.809396\tvalid_1's auc: 0.729246\n",
      "[400]\ttraining's auc: 0.848497\tvalid_1's auc: 0.736351\n",
      "[600]\ttraining's auc: 0.878398\tvalid_1's auc: 0.739658\n",
      "[800]\ttraining's auc: 0.903381\tvalid_1's auc: 0.74087\n",
      "[1000]\ttraining's auc: 0.923679\tvalid_1's auc: 0.741175\n",
      "[1200]\ttraining's auc: 0.939972\tvalid_1's auc: 0.741098\n",
      "Early stopping, best iteration is:\n",
      "[956]\ttraining's auc: 0.919575\tvalid_1's auc: 0.741783\n",
      "fold n°9\n",
      "Training until validation scores don't improve for 400 rounds\n",
      "[200]\ttraining's auc: 0.808003\tvalid_1's auc: 0.754101\n",
      "[400]\ttraining's auc: 0.848552\tvalid_1's auc: 0.754749\n",
      "[600]\ttraining's auc: 0.878663\tvalid_1's auc: 0.755386\n",
      "[800]\ttraining's auc: 0.903196\tvalid_1's auc: 0.755538\n",
      "[1000]\ttraining's auc: 0.923393\tvalid_1's auc: 0.756402\n",
      "[1200]\ttraining's auc: 0.939601\tvalid_1's auc: 0.756276\n",
      "[1400]\ttraining's auc: 0.952741\tvalid_1's auc: 0.756184\n",
      "Early stopping, best iteration is:\n",
      "[1098]\ttraining's auc: 0.931698\tvalid_1's auc: 0.75684\n",
      "CV score: 0.75778 \n"
     ]
    }
   ],
   "source": [
    "max_iter = 10\n",
    "folds = StratifiedKFold(n_splits=max_iter, random_state=1991)\n",
    "oof = np.zeros(len(comp_train))\n",
    "categorical_columns = None\n",
    "predictions_test = np.zeros(len(comp_test))\n",
    "feature_importance_df = pd.DataFrame()\n",
    "\n",
    "for fold_, (trn_idx, val_idx) in enumerate(folds.split(comp_train.values, target)):\n",
    "    print(\"fold n°{}\".format(fold_))\n",
    "    X_trn, y_trn = comp_train.iloc[trn_idx][features], target.iloc[trn_idx]\n",
    "    X_val, y_val = comp_train.iloc[val_idx][features], target.iloc[val_idx]\n",
    "    X_comp_test = comp_test[features]\n",
    "    trn_data = lgb.Dataset(X_trn, y_trn, categorical_feature = categorical_columns)\n",
    "    val_data = lgb.Dataset(X_val, y_val, categorical_feature = categorical_columns)\n",
    "    num_round = 500000\n",
    "    clf = lgb.train(param, trn_data, num_round, valid_sets = [trn_data, val_data], verbose_eval=200, early_stopping_rounds = 400)\n",
    "    oof[val_idx] = clf.predict(X_val, num_iteration=clf.best_iteration)\n",
    "    \n",
    "    del trn_data, val_data, X_trn, X_val, y_trn, y_val\n",
    "    \n",
    "    fold_importance_df = pd.DataFrame()\n",
    "    fold_importance_df[\"feature\"] = features\n",
    "    fold_importance_df[\"importance\"] = clf.feature_importance(importance_type='gain')\n",
    "    fold_importance_df[\"fold\"] = fold_ + 1\n",
    "    feature_importance_df = pd.concat([feature_importance_df, fold_importance_df], axis=0)\n",
    "\n",
    "    current_comp_test_pred = clf.predict(X_comp_test, num_iteration=clf.best_iteration)\n",
    "    predictions_test += current_comp_test_pred / folds.n_splits\n",
    "    \n",
    "    del X_comp_test, current_comp_test_pred, clf\n",
    "    \n",
    "    gc.collect()\n",
    "\n",
    "print(\"CV score: {:<8.5f}\".format(roc_auc_score(target, oof)))"
   ]
  },
  {
   "cell_type": "code",
   "execution_count": 39,
   "metadata": {},
   "outputs": [
    {
     "data": {
      "text/plain": [
       "<matplotlib.axes._subplots.AxesSubplot at 0x7f65515eb198>"
      ]
     },
     "execution_count": 39,
     "metadata": {},
     "output_type": "execute_result"
    },
    {
     "data": {
      "image/png": "[encoded data removed]",
      "text/plain": [
       "<Figure size 432x288 with 1 Axes>"
      ]
     },
     "metadata": {
      "needs_background": "light"
     },
     "output_type": "display_data"
    }
   ],
   "source": [
    "pd.Series(predictions_test).plot(kind='density')"
   ]
  },
  {
   "cell_type": "code",
   "execution_count": 40,
   "metadata": {
    "collapsed": true
   },
   "outputs": [],
   "source": [
    "oof_df = pd.DataFrame()\n",
    "oof_df['patient_id'] = comp_train['patient_id']\n",
    "oof_df[TARGET_COL] = oof\n",
    "oof_df.to_csv(OUTPUT_PATH + 'oofs_lgbm.csv', index=False)"
   ]
  },
  {
   "cell_type": "code",
   "execution_count": 41,
   "metadata": {},
   "outputs": [
    {
     "data": {
      "text/html": [
       "<div>\n",
       "<style scoped>\n",
       "    .dataframe tbody tr th:only-of-type {\n",
       "        vertical-align: middle;\n",
       "    }\n",
       "\n",
       "    .dataframe tbody tr th {\n",
       "        vertical-align: top;\n",
       "    }\n",
       "\n",
       "    .dataframe thead th {\n",
       "        text-align: right;\n",
       "    }\n",
       "</style>\n",
       "<table border=\"1\" class=\"dataframe\">\n",
       "  <thead>\n",
       "    <tr style=\"text-align: right;\">\n",
       "      <th></th>\n",
       "      <th>patient_id</th>\n",
       "      <th>outcome_flag</th>\n",
       "    </tr>\n",
       "  </thead>\n",
       "  <tbody>\n",
       "    <tr>\n",
       "      <th>0</th>\n",
       "      <td>patient_2</td>\n",
       "      <td>0.226579</td>\n",
       "    </tr>\n",
       "    <tr>\n",
       "      <th>1</th>\n",
       "      <td>patient_3</td>\n",
       "      <td>0.161460</td>\n",
       "    </tr>\n",
       "    <tr>\n",
       "      <th>2</th>\n",
       "      <td>patient_5</td>\n",
       "      <td>0.445144</td>\n",
       "    </tr>\n",
       "    <tr>\n",
       "      <th>3</th>\n",
       "      <td>patient_8</td>\n",
       "      <td>0.027795</td>\n",
       "    </tr>\n",
       "    <tr>\n",
       "      <th>4</th>\n",
       "      <td>patient_14</td>\n",
       "      <td>0.139229</td>\n",
       "    </tr>\n",
       "    <tr>\n",
       "      <th>5</th>\n",
       "      <td>patient_15</td>\n",
       "      <td>0.090780</td>\n",
       "    </tr>\n",
       "    <tr>\n",
       "      <th>6</th>\n",
       "      <td>patient_16</td>\n",
       "      <td>0.079721</td>\n",
       "    </tr>\n",
       "    <tr>\n",
       "      <th>7</th>\n",
       "      <td>patient_33</td>\n",
       "      <td>0.140987</td>\n",
       "    </tr>\n",
       "    <tr>\n",
       "      <th>8</th>\n",
       "      <td>patient_38</td>\n",
       "      <td>0.060210</td>\n",
       "    </tr>\n",
       "    <tr>\n",
       "      <th>9</th>\n",
       "      <td>patient_41</td>\n",
       "      <td>0.568861</td>\n",
       "    </tr>\n",
       "  </tbody>\n",
       "</table>\n",
       "</div>"
      ],
      "text/plain": [
       "   patient_id  outcome_flag\n",
       "0   patient_2      0.226579\n",
       "1   patient_3      0.161460\n",
       "2   patient_5      0.445144\n",
       "3   patient_8      0.027795\n",
       "4  patient_14      0.139229\n",
       "5  patient_15      0.090780\n",
       "6  patient_16      0.079721\n",
       "7  patient_33      0.140987\n",
       "8  patient_38      0.060210\n",
       "9  patient_41      0.568861"
      ]
     },
     "execution_count": 41,
     "metadata": {},
     "output_type": "execute_result"
    }
   ],
   "source": [
    "sub_df = pd.DataFrame()\n",
    "sub_df[ID_COL] = comp_test[ID_COL]\n",
    "sub_df[TARGET_COL] = predictions_test\n",
    "sub_df[[TARGET_COL]].to_excel(OUTPUT_PATH +'preds_lgbm.xlsx', index=False)\n",
    "sub_df.head(10)"
   ]
  }
 ],
 "metadata": {
  "kernelspec": {
   "display_name": "Python 3",
   "language": "python",
   "name": "python3"
  },
  "language_info": {
   "codemirror_mode": {
    "name": "ipython",
    "version": 3
   },
   "file_extension": ".py",
   "mimetype": "text/x-python",
   "name": "python",
   "nbconvert_exporter": "python",
   "pygments_lexer": "ipython3",
   "version": "3.6.3"
  }
 },
 "nbformat": 4,
 "nbformat_minor": 1
}
